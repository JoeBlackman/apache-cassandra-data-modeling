{
 "cells": [
  {
   "cell_type": "markdown",
   "metadata": {},
   "source": [
    "# Part I. ETL Pipeline for Pre-Processing the Files"
   ]
  },
  {
   "cell_type": "markdown",
   "metadata": {},
   "source": [
    "## PLEASE RUN THE FOLLOWING CODE FOR PRE-PROCESSING THE FILES"
   ]
  },
  {
   "cell_type": "markdown",
   "metadata": {},
   "source": [
    "#### Import Python packages "
   ]
  },
  {
   "cell_type": "code",
   "execution_count": 1,
   "metadata": {},
   "outputs": [],
   "source": [
    "# Import Python packages \n",
    "import pandas as pd\n",
    "import cassandra\n",
    "import re\n",
    "import os\n",
    "import glob\n",
    "import numpy as np\n",
    "import json\n",
    "import csv"
   ]
  },
  {
   "cell_type": "markdown",
   "metadata": {},
   "source": [
    "#### Creating list of filepaths to process original event csv data files"
   ]
  },
  {
   "cell_type": "code",
   "execution_count": 3,
   "metadata": {},
   "outputs": [
    {
     "name": "stdout",
     "output_type": "stream",
     "text": [
      "/home/joe/Projects/Udacity/DataEngineering/Data_Modeling_With_Apache_Cassandra\n"
     ]
    }
   ],
   "source": [
    "# checking your current working directory\n",
    "print(os.getcwd())\n",
    "\n",
    "# Get your current folder and subfolder event data\n",
    "filepath = os.getcwd() + '/event_data'\n",
    "\n",
    "# Create a for loop to create a list of files and collect each filepath\n",
    "for root, dirs, files in os.walk(filepath):\n",
    "    \n",
    "# join the file path and roots with the subdirectories using glob\n",
    "    file_path_list = glob.glob(os.path.join(root,'*'))\n",
    "    #print(file_path_list)"
   ]
  },
  {
   "cell_type": "markdown",
   "metadata": {},
   "source": [
    "#### Processing the files to create the data file csv that will be used for Apache Casssandra tables"
   ]
  },
  {
   "cell_type": "code",
   "execution_count": 4,
   "metadata": {},
   "outputs": [],
   "source": [
    "# initiating an empty list of rows that will be generated from each file\n",
    "full_data_rows_list = [] \n",
    "    \n",
    "# for every filepath in the file path list \n",
    "for f in file_path_list:\n",
    "\n",
    "# reading csv file \n",
    "    with open(f, 'r', encoding = 'utf-8', newline='') as csvfile: \n",
    "        # creating a csv reader object \n",
    "        csvreader = csv.reader(csvfile) \n",
    "        next(csvreader)\n",
    "        \n",
    " # extracting each data row one by one and append it        \n",
    "        for line in csvreader:\n",
    "            #print(line)\n",
    "            full_data_rows_list.append(line) \n",
    "            \n",
    "# uncomment the code below if you would like to get total number of rows \n",
    "#print(len(full_data_rows_list))\n",
    "# uncomment the code below if you would like to check to see what the list of event data rows will look like\n",
    "#print(full_data_rows_list)\n",
    "\n",
    "# create event_datafile_full.csv\n",
    "# will be used as an intermediate step for pushing all data found in the event_data directory into the \n",
    "# Apache Cassandra keyspace tables\n",
    "csv.register_dialect('myDialect', quoting=csv.QUOTE_ALL, skipinitialspace=True)\n",
    "\n",
    "with open('event_datafile_new.csv', 'w', encoding = 'utf-8', newline='') as f:\n",
    "    writer = csv.writer(f, dialect='myDialect')\n",
    "    writer.writerow(['artist','firstName','gender','itemInSession','lastName','length',\\\n",
    "                'level','location','sessionId','song','userId'])\n",
    "    for row in full_data_rows_list:\n",
    "        if (row[0] == ''):\n",
    "            continue\n",
    "        writer.writerow((row[0], row[2], row[3], row[4], row[5], row[6], row[7], row[8], row[12], row[13], row[16]))\n"
   ]
  },
  {
   "cell_type": "code",
   "execution_count": 5,
   "metadata": {},
   "outputs": [
    {
     "name": "stdout",
     "output_type": "stream",
     "text": [
      "6821\n"
     ]
    }
   ],
   "source": [
    "# check the number of rows in your csv file\n",
    "with open('event_datafile_new.csv', 'r', encoding = 'utf8') as f:\n",
    "    print(sum(1 for line in f))"
   ]
  },
  {
   "cell_type": "code",
   "execution_count": 6,
   "metadata": {},
   "outputs": [],
   "source": [
    "# create an enum to reference column names of event data csv file \n",
    "# to avoid magic numbers when assembling INSERT statements later in this notebook\n",
    "from enum import Enum\n",
    "\n",
    "class EventData(Enum):\n",
    "    artist = 0\n",
    "    firstName = 1\n",
    "    gender = 2\n",
    "    itemInSession = 3\n",
    "    lastName = 4\n",
    "    length = 5\n",
    "    level = 6\n",
    "    location = 7\n",
    "    sessionId = 8\n",
    "    song = 9\n",
    "    userId = 10"
   ]
  },
  {
   "cell_type": "markdown",
   "metadata": {},
   "source": [
    "# Part II. Complete the Apache Cassandra coding portion of your project. \n",
    "\n",
    "## Now you are ready to work with the CSV file titled <font color=red>event_datafile_new.csv</font>, located within the Workspace directory.  The event_datafile_new.csv contains the following columns: \n",
    "- artist \n",
    "- firstName of user\n",
    "- gender of user\n",
    "- item number in session\n",
    "- last name of user\n",
    "- length of the song\n",
    "- level (paid or free song)\n",
    "- location of the user\n",
    "- sessionId\n",
    "- song title\n",
    "- userId\n",
    "\n",
    "The image below is a screenshot of what the denormalized data should appear like in the <font color=red>**event_datafile_new.csv**</font> after the code above is run:<br>\n",
    "\n",
    "<img src=\"images/image_event_datafile_new.jpg\">"
   ]
  },
  {
   "cell_type": "markdown",
   "metadata": {},
   "source": [
    "## Begin writing your Apache Cassandra code in the cells below"
   ]
  },
  {
   "cell_type": "markdown",
   "metadata": {},
   "source": [
    "#### Creating a Cluster"
   ]
  },
  {
   "cell_type": "code",
   "execution_count": 7,
   "metadata": {},
   "outputs": [],
   "source": [
    "# Establish connection to local instance of Apache Cassandra\n",
    "from cassandra.cluster import Cluster\n",
    "\n",
    "try:\n",
    "    cluster = Cluster(['127.0.0.1'])\n",
    "    session = cluster.connect()\n",
    "except exception as e:\n",
    "    print(e)"
   ]
  },
  {
   "cell_type": "markdown",
   "metadata": {},
   "source": [
    "#### Create Keyspace"
   ]
  },
  {
   "cell_type": "code",
   "execution_count": 8,
   "metadata": {},
   "outputs": [],
   "source": [
    "# create the keyspace\n",
    "query_keyspace_create = \"\"\"\n",
    "CREATE KEYSPACE IF NOT EXISTS sparkifydb \n",
    "WITH REPLICATION = {'class':'SimpleStrategy', 'replication_factor':1}\n",
    "\"\"\"\n",
    "\n",
    "try:\n",
    "    session.execute(query_keyspace_create)\n",
    "except exception as e:\n",
    "    print(e)"
   ]
  },
  {
   "cell_type": "markdown",
   "metadata": {},
   "source": [
    "#### Set Keyspace"
   ]
  },
  {
   "cell_type": "code",
   "execution_count": 9,
   "metadata": {},
   "outputs": [],
   "source": [
    "# set the keyspace\n",
    "try:\n",
    "    session.set_keyspace('sparkifydb')\n",
    "except exception as e:\n",
    "    print(e)"
   ]
  },
  {
   "cell_type": "markdown",
   "metadata": {},
   "source": [
    "### Now we need to create tables to run the following queries. Remember, with Apache Cassandra you model the database tables on the queries you want to run."
   ]
  },
  {
   "cell_type": "code",
   "execution_count": 10,
   "metadata": {},
   "outputs": [],
   "source": [
    "# table to handle query 1\n",
    "# fields: artist, song, length, sessionid, itemInSession\n",
    "# Partition key = sessionid, itemInSession (composite)\n",
    "# Clustering key = None\n",
    "create_query1_table = \"\"\"\n",
    "CREATE TABLE IF NOT EXISTS query1 (\n",
    "    sessionId int,\n",
    "    itemInSession int,\n",
    "    song text,\n",
    "    artist text,\n",
    "    length decimal,\n",
    "    PRIMARY KEY (\n",
    "        sessionId,\n",
    "        itemInSession\n",
    "    )\n",
    ")\n",
    "\"\"\"\n",
    "try:\n",
    "    session.execute(create_query1_table)\n",
    "except Exception as e:\n",
    "    print(repr(e))"
   ]
  },
  {
   "cell_type": "code",
   "execution_count": 11,
   "metadata": {},
   "outputs": [],
   "source": [
    "# table to handle query 2\n",
    "# fields: artist, song, user first name, user last name, userId, sessionId, itemInSession (for sorting)\n",
    "# Partition key =  userId, sessionId (composite)\n",
    "# Clustering Key = itemInSession (sort by this)\n",
    "create_query2_table = \"\"\"\n",
    "CREATE TABLE IF NOT EXISTS query2 (\n",
    "    userId int,\n",
    "    sessionId int,\n",
    "    itemInSession int,\n",
    "    artist text,\n",
    "    song text,\n",
    "    firstName text,\n",
    "    lastName text,\n",
    "    PRIMARY KEY (\n",
    "        (\n",
    "            userId,\n",
    "            sessionId\n",
    "        ),\n",
    "        itemInSession\n",
    "    )\n",
    ")\n",
    "\"\"\"\n",
    "try:\n",
    "    session.execute(create_query2_table)\n",
    "except Exception as e:\n",
    "    print(repr(e))"
   ]
  },
  {
   "cell_type": "code",
   "execution_count": 12,
   "metadata": {},
   "outputs": [],
   "source": [
    "# table to handle query 3\n",
    "# fields: user first name, user last name, song\n",
    "# Partition key =  song, userId (composite, order matters since we're going to use song in our WHERE clause)\n",
    "# Clustering Key = none\n",
    "create_query3_table = \"\"\"\n",
    "CREATE TABLE IF NOT EXISTS query3 (\n",
    "    song text,\n",
    "    userId int,\n",
    "    firstName text,\n",
    "    lastName text,\n",
    "    PRIMARY KEY (\n",
    "        song,\n",
    "        userId\n",
    "    )\n",
    ")\n",
    "\"\"\"\n",
    "try:\n",
    "    session.execute(create_query3_table)\n",
    "except Exception as e:\n",
    "    print(repr(e))"
   ]
  },
  {
   "cell_type": "markdown",
   "metadata": {},
   "source": [
    "## Create queries to ask the following three questions of the data\n",
    "\n",
    "### 1. Give me the artist, song title and song's length in the music app history that was heard during  sessionId = 338, and itemInSession  = 4\n",
    "\n",
    "\n",
    "### 2. Give me only the following: name of artist, song (sorted by itemInSession) and user (first and last name) for userid = 10, sessionid = 182\n",
    "    \n",
    "\n",
    "### 3. Give me every user name (first and last) in my music app history who listened to the song 'All Hands Against His Own'\n",
    "\n",
    "\n"
   ]
  },
  {
   "cell_type": "code",
   "execution_count": 13,
   "metadata": {},
   "outputs": [],
   "source": [
    "# define query1\n",
    "query1 = \"\"\"\n",
    "SELECT artist, song, length \n",
    "FROM query1 \n",
    "WHERE sessionId=338 AND itemInSession=4\n",
    "\"\"\""
   ]
  },
  {
   "cell_type": "code",
   "execution_count": 14,
   "metadata": {
    "scrolled": false
   },
   "outputs": [],
   "source": [
    "# insert data into data to perform query1\n",
    "file = 'event_datafile_new.csv'\n",
    "\n",
    "with open(file, encoding = 'utf8') as f:\n",
    "    csvreader = csv.reader(f)\n",
    "    next(csvreader) # skip header\n",
    "    for line in csvreader:\n",
    "        query = \"\"\"\n",
    "        INSERT INTO query1 (\n",
    "            sessionId,\n",
    "            itemInSession,\n",
    "            artist,\n",
    "            song,\n",
    "            length\n",
    "        )\n",
    "        VALUES (?, ?, ?, ?, ?)\n",
    "        \"\"\"\n",
    "        try:\n",
    "            s = session.prepare(query)\n",
    "            bound = s.bind((int(line[EventData.sessionId.value]), \n",
    "                            int(line[EventData.itemInSession.value]), \n",
    "                            line[EventData.artist.value], \n",
    "                            line[EventData.song.value], \n",
    "                            \"{:.5f}\".format(float(line[EventData.length.value]))))\n",
    "            session.execute(bound)\n",
    "        except Exception as e:\n",
    "            print(repr(e))\n",
    "            print(bound)"
   ]
  },
  {
   "cell_type": "markdown",
   "metadata": {},
   "source": [
    "#### Do a SELECT to verify that the data have been inserted into each table"
   ]
  },
  {
   "cell_type": "code",
   "execution_count": 15,
   "metadata": {
    "scrolled": true
   },
   "outputs": [
    {
     "name": "stdout",
     "output_type": "stream",
     "text": [
      "Row(artist='Faithless', song='Music Matters (Mark Knight Dub)', length=Decimal('495.30730'))\n"
     ]
    }
   ],
   "source": [
    "# execute query1\n",
    "try:\n",
    "    rows = session.execute(query1)\n",
    "    for row in rows:\n",
    "        print(row)\n",
    "except Exception as e:\n",
    "    print(repr(e))"
   ]
  },
  {
   "cell_type": "markdown",
   "metadata": {},
   "source": [
    "### COPY AND REPEAT THE ABOVE THREE CELLS FOR EACH OF THE THREE QUESTIONS"
   ]
  },
  {
   "cell_type": "code",
   "execution_count": 16,
   "metadata": {},
   "outputs": [],
   "source": [
    "# define query2\n",
    "query2 = \"\"\"\n",
    "SELECT artist, song, firstName, lastName \n",
    "FROM query2 \n",
    "WHERE userId=10 AND sessionId=182\n",
    "\"\"\""
   ]
  },
  {
   "cell_type": "code",
   "execution_count": 17,
   "metadata": {
    "scrolled": false
   },
   "outputs": [],
   "source": [
    "# insert data into table to perform query2\n",
    "file = 'event_datafile_new.csv'\n",
    "\n",
    "with open(file, encoding = 'utf8') as f:\n",
    "    csvreader = csv.reader(f)\n",
    "    next(csvreader) # skip header\n",
    "    for line in csvreader:\n",
    "        query = f\"\"\"\n",
    "        INSERT INTO query2 (\n",
    "            userId, \n",
    "            sessionId, \n",
    "            itemInSession,\n",
    "            artist,\n",
    "            song,\n",
    "            firstName,\n",
    "            lastName\n",
    "        ) \n",
    "        VALUES (?, ?, ?, ?, ?, ?, ?)\n",
    "        \"\"\"\n",
    "        try:\n",
    "            s = session.prepare(query)\n",
    "            bound = s.bind((int(line[EventData.userId.value]), \n",
    "                            int(line[EventData.sessionId.value]),\n",
    "                            int(line[EventData.itemInSession.value]),\n",
    "                            line[EventData.artist.value], \n",
    "                            line[EventData.song.value], \n",
    "                            line[EventData.firstName.value], \n",
    "                            line[EventData.lastName.value]))\n",
    "            session.execute(bound)\n",
    "            #session.execute(query)\n",
    "        except Exception as e:\n",
    "            print(repr(e))\n",
    "            print(bound)"
   ]
  },
  {
   "cell_type": "code",
   "execution_count": 18,
   "metadata": {
    "scrolled": true
   },
   "outputs": [
    {
     "name": "stdout",
     "output_type": "stream",
     "text": [
      "Row(artist='Down To The Bone', song=\"Keep On Keepin' On\", firstname='Sylvie', lastname='Cruz')\n",
      "Row(artist='Three Drives', song='Greece 2000', firstname='Sylvie', lastname='Cruz')\n",
      "Row(artist='Sebastien Tellier', song='Kilometer', firstname='Sylvie', lastname='Cruz')\n",
      "Row(artist='Lonnie Gordon', song='Catch You Baby (Steve Pitron & Max Sanna Radio Edit)', firstname='Sylvie', lastname='Cruz')\n"
     ]
    }
   ],
   "source": [
    "# execute query2\n",
    "try:\n",
    "    rows = session.execute(query2)\n",
    "    for row in rows:\n",
    "        print(row)\n",
    "except Exception as e:\n",
    "    print(repr(e))"
   ]
  },
  {
   "cell_type": "code",
   "execution_count": 19,
   "metadata": {},
   "outputs": [],
   "source": [
    "# define query3\n",
    "query3 = \"\"\"\n",
    "SELECT firstName, lastName \n",
    "FROM query3 \n",
    "WHERE song='All Hands Against His Own'\n",
    "\"\"\"                "
   ]
  },
  {
   "cell_type": "code",
   "execution_count": 20,
   "metadata": {
    "scrolled": false
   },
   "outputs": [],
   "source": [
    "# insert data into table to perform query3\n",
    "# this insert will be slightly different since a user can listen to the same song many times\n",
    "# the query only cares about finding users who listened to a song\n",
    "# that means we can use IF NOT EXISTS to only insert an instance of a user listening to a song once\n",
    "file = 'event_datafile_new.csv'\n",
    "\n",
    "with open(file, encoding = 'utf8') as f:\n",
    "    csvreader = csv.reader(f)\n",
    "    next(csvreader) # skip header\n",
    "    for line in csvreader:\n",
    "        query = \"\"\"\n",
    "        INSERT INTO query3 (\n",
    "            song,\n",
    "            userId,\n",
    "            firstName,\n",
    "            lastName\n",
    "        )\n",
    "        VALUES (?, ?, ?, ?)\n",
    "        IF NOT EXISTS\n",
    "        \"\"\"\n",
    "        try:\n",
    "            s = session.prepare(query)\n",
    "            bound = s.bind((line[EventData.song.value],\n",
    "                            int(line[EventData.userId.value]),\n",
    "                            line[EventData.firstName.value], \n",
    "                            line[EventData.lastName.value]))\n",
    "            session.execute(bound)\n",
    "        except Exception as e:\n",
    "            print(repr(e))\n",
    "            print(bound)"
   ]
  },
  {
   "cell_type": "code",
   "execution_count": 21,
   "metadata": {
    "scrolled": true
   },
   "outputs": [
    {
     "name": "stdout",
     "output_type": "stream",
     "text": [
      "Row(firstname='Jacqueline', lastname='Lynch')\n",
      "Row(firstname='Tegan', lastname='Levine')\n",
      "Row(firstname='Sara', lastname='Johnson')\n"
     ]
    }
   ],
   "source": [
    "# execute query3\n",
    "try:\n",
    "    rows = session.execute(query3)\n",
    "    for row in rows:\n",
    "        print(row)\n",
    "except Exception as e:\n",
    "    print(repr(e))"
   ]
  },
  {
   "cell_type": "markdown",
   "metadata": {},
   "source": [
    "### Drop the tables before closing out the sessions"
   ]
  },
  {
   "cell_type": "code",
   "execution_count": 22,
   "metadata": {},
   "outputs": [],
   "source": [
    "# drop tables to clean up keyspace\n",
    "try:\n",
    "    session.execute('DROP TABLE query1')\n",
    "except Exception as e:\n",
    "    print(e)\n",
    "try:\n",
    "    session.execute('DROP TABLE query2')\n",
    "except Exception as e:\n",
    "    print(e)\n",
    "try:\n",
    "    session.execute('DROP TABLE query3')\n",
    "except Exception as e:\n",
    "    print(e)"
   ]
  },
  {
   "cell_type": "markdown",
   "metadata": {},
   "source": [
    "### Close the session and cluster connection¶"
   ]
  },
  {
   "cell_type": "code",
   "execution_count": 23,
   "metadata": {},
   "outputs": [],
   "source": [
    "# release the connection to the Apache Cassandra instance\n",
    "session.shutdown()\n",
    "cluster.shutdown()"
   ]
  },
  {
   "cell_type": "code",
   "execution_count": null,
   "metadata": {},
   "outputs": [],
   "source": []
  }
 ],
 "metadata": {
  "kernelspec": {
   "display_name": "data_engineering",
   "language": "python",
   "name": "data_engineering"
  },
  "language_info": {
   "codemirror_mode": {
    "name": "ipython",
    "version": 3
   },
   "file_extension": ".py",
   "mimetype": "text/x-python",
   "name": "python",
   "nbconvert_exporter": "python",
   "pygments_lexer": "ipython3",
   "version": "3.7.11"
  }
 },
 "nbformat": 4,
 "nbformat_minor": 2
}
